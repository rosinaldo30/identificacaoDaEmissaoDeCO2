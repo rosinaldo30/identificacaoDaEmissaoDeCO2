{
 "cells": [
  {
   "cell_type": "markdown",
   "metadata": {},
   "source": [
    "# Introdução\n",
    "\n",
    "Este é um projeto de Ciência de Dados para prever a emissão de CO2 na atmosfera. Com base em dados anteriores, poderá ser previsto a emissão de outros veículos,  com base nos dados coletados. Sendo assim, será utilizado o modelo de Aprendizado de Máquina de regressão Múltipla. O modelo de Regressão Multipla é semelhante ao de regressão linear, sua diferença é que ele utiliza mais de uma variável, tornando assim o modelo mais eficaz."
   ]
  },
  {
   "cell_type": "markdown",
   "metadata": {},
   "source": [
    "### Autor: Rosinaldo Alves da Silva\n",
    "Não é permitido Plágio - Crie seu Próprio Modelo"
   ]
  },
  {
   "cell_type": "markdown",
   "metadata": {},
   "source": [
    "## Importação dos dados"
   ]
  },
  {
   "cell_type": "code",
   "execution_count": 3,
   "metadata": {},
   "outputs": [],
   "source": [
    "# Utilizaremos a biblioteca pandas para importar os dados\n",
    "import pandas as pd\n",
    "\n",
    "df = pd.read_csv('carros.csv')"
   ]
  },
  {
   "cell_type": "code",
   "execution_count": 4,
   "metadata": {},
   "outputs": [
    {
     "data": {
      "text/html": [
       "<div>\n",
       "<style scoped>\n",
       "    .dataframe tbody tr th:only-of-type {\n",
       "        vertical-align: middle;\n",
       "    }\n",
       "\n",
       "    .dataframe tbody tr th {\n",
       "        vertical-align: top;\n",
       "    }\n",
       "\n",
       "    .dataframe thead th {\n",
       "        text-align: right;\n",
       "    }\n",
       "</style>\n",
       "<table border=\"1\" class=\"dataframe\">\n",
       "  <thead>\n",
       "    <tr style=\"text-align: right;\">\n",
       "      <th></th>\n",
       "      <th>Car</th>\n",
       "      <th>Model</th>\n",
       "      <th>Volume</th>\n",
       "      <th>Weight</th>\n",
       "      <th>CO2</th>\n",
       "    </tr>\n",
       "  </thead>\n",
       "  <tbody>\n",
       "    <tr>\n",
       "      <th>0</th>\n",
       "      <td>Toyoty</td>\n",
       "      <td>Aygo</td>\n",
       "      <td>1000</td>\n",
       "      <td>790</td>\n",
       "      <td>99</td>\n",
       "    </tr>\n",
       "    <tr>\n",
       "      <th>1</th>\n",
       "      <td>Mitsubishi</td>\n",
       "      <td>Space Star</td>\n",
       "      <td>1200</td>\n",
       "      <td>1160</td>\n",
       "      <td>95</td>\n",
       "    </tr>\n",
       "    <tr>\n",
       "      <th>2</th>\n",
       "      <td>Skoda</td>\n",
       "      <td>Citigo</td>\n",
       "      <td>1000</td>\n",
       "      <td>929</td>\n",
       "      <td>95</td>\n",
       "    </tr>\n",
       "    <tr>\n",
       "      <th>3</th>\n",
       "      <td>Fiat</td>\n",
       "      <td>500</td>\n",
       "      <td>900</td>\n",
       "      <td>865</td>\n",
       "      <td>90</td>\n",
       "    </tr>\n",
       "    <tr>\n",
       "      <th>4</th>\n",
       "      <td>Mini</td>\n",
       "      <td>Cooper</td>\n",
       "      <td>1500</td>\n",
       "      <td>1140</td>\n",
       "      <td>105</td>\n",
       "    </tr>\n",
       "    <tr>\n",
       "      <th>5</th>\n",
       "      <td>VW</td>\n",
       "      <td>Up!</td>\n",
       "      <td>1000</td>\n",
       "      <td>929</td>\n",
       "      <td>105</td>\n",
       "    </tr>\n",
       "    <tr>\n",
       "      <th>6</th>\n",
       "      <td>Skoda</td>\n",
       "      <td>Fabia</td>\n",
       "      <td>1400</td>\n",
       "      <td>1109</td>\n",
       "      <td>90</td>\n",
       "    </tr>\n",
       "    <tr>\n",
       "      <th>7</th>\n",
       "      <td>Mercedes</td>\n",
       "      <td>A-Class</td>\n",
       "      <td>1500</td>\n",
       "      <td>1365</td>\n",
       "      <td>92</td>\n",
       "    </tr>\n",
       "    <tr>\n",
       "      <th>8</th>\n",
       "      <td>Ford</td>\n",
       "      <td>Fiesta</td>\n",
       "      <td>1500</td>\n",
       "      <td>1112</td>\n",
       "      <td>98</td>\n",
       "    </tr>\n",
       "    <tr>\n",
       "      <th>9</th>\n",
       "      <td>Audi</td>\n",
       "      <td>A1</td>\n",
       "      <td>1600</td>\n",
       "      <td>1150</td>\n",
       "      <td>99</td>\n",
       "    </tr>\n",
       "  </tbody>\n",
       "</table>\n",
       "</div>"
      ],
      "text/plain": [
       "          Car       Model  Volume  Weight  CO2\n",
       "0      Toyoty        Aygo    1000     790   99\n",
       "1  Mitsubishi  Space Star    1200    1160   95\n",
       "2       Skoda      Citigo    1000     929   95\n",
       "3        Fiat         500     900     865   90\n",
       "4        Mini      Cooper    1500    1140  105\n",
       "5          VW         Up!    1000     929  105\n",
       "6       Skoda       Fabia    1400    1109   90\n",
       "7    Mercedes     A-Class    1500    1365   92\n",
       "8        Ford      Fiesta    1500    1112   98\n",
       "9        Audi          A1    1600    1150   99"
      ]
     },
     "execution_count": 4,
     "metadata": {},
     "output_type": "execute_result"
    }
   ],
   "source": [
    "df.head(10)"
   ]
  },
  {
   "cell_type": "markdown",
   "metadata": {},
   "source": [
    "## Analise dos dados"
   ]
  },
  {
   "cell_type": "code",
   "execution_count": 5,
   "metadata": {},
   "outputs": [
    {
     "data": {
      "text/html": [
       "<div>\n",
       "<style scoped>\n",
       "    .dataframe tbody tr th:only-of-type {\n",
       "        vertical-align: middle;\n",
       "    }\n",
       "\n",
       "    .dataframe tbody tr th {\n",
       "        vertical-align: top;\n",
       "    }\n",
       "\n",
       "    .dataframe thead th {\n",
       "        text-align: right;\n",
       "    }\n",
       "</style>\n",
       "<table border=\"1\" class=\"dataframe\">\n",
       "  <thead>\n",
       "    <tr style=\"text-align: right;\">\n",
       "      <th></th>\n",
       "      <th>Volume</th>\n",
       "      <th>Weight</th>\n",
       "      <th>CO2</th>\n",
       "    </tr>\n",
       "  </thead>\n",
       "  <tbody>\n",
       "    <tr>\n",
       "      <th>count</th>\n",
       "      <td>36.000000</td>\n",
       "      <td>36.000000</td>\n",
       "      <td>36.000000</td>\n",
       "    </tr>\n",
       "    <tr>\n",
       "      <th>mean</th>\n",
       "      <td>1611.111111</td>\n",
       "      <td>1292.277778</td>\n",
       "      <td>102.027778</td>\n",
       "    </tr>\n",
       "    <tr>\n",
       "      <th>std</th>\n",
       "      <td>388.975047</td>\n",
       "      <td>242.123889</td>\n",
       "      <td>7.454571</td>\n",
       "    </tr>\n",
       "    <tr>\n",
       "      <th>min</th>\n",
       "      <td>900.000000</td>\n",
       "      <td>790.000000</td>\n",
       "      <td>90.000000</td>\n",
       "    </tr>\n",
       "    <tr>\n",
       "      <th>25%</th>\n",
       "      <td>1475.000000</td>\n",
       "      <td>1117.250000</td>\n",
       "      <td>97.750000</td>\n",
       "    </tr>\n",
       "    <tr>\n",
       "      <th>50%</th>\n",
       "      <td>1600.000000</td>\n",
       "      <td>1329.000000</td>\n",
       "      <td>99.000000</td>\n",
       "    </tr>\n",
       "    <tr>\n",
       "      <th>75%</th>\n",
       "      <td>2000.000000</td>\n",
       "      <td>1418.250000</td>\n",
       "      <td>105.000000</td>\n",
       "    </tr>\n",
       "    <tr>\n",
       "      <th>max</th>\n",
       "      <td>2500.000000</td>\n",
       "      <td>1746.000000</td>\n",
       "      <td>120.000000</td>\n",
       "    </tr>\n",
       "  </tbody>\n",
       "</table>\n",
       "</div>"
      ],
      "text/plain": [
       "            Volume       Weight         CO2\n",
       "count    36.000000    36.000000   36.000000\n",
       "mean   1611.111111  1292.277778  102.027778\n",
       "std     388.975047   242.123889    7.454571\n",
       "min     900.000000   790.000000   90.000000\n",
       "25%    1475.000000  1117.250000   97.750000\n",
       "50%    1600.000000  1329.000000   99.000000\n",
       "75%    2000.000000  1418.250000  105.000000\n",
       "max    2500.000000  1746.000000  120.000000"
      ]
     },
     "execution_count": 5,
     "metadata": {},
     "output_type": "execute_result"
    }
   ],
   "source": [
    "df.describe()"
   ]
  },
  {
   "cell_type": "markdown",
   "metadata": {},
   "source": [
    "Podemos observar que esse é um conjunto de dados pequeno, afim apenas, para testes. Mas pode ser utilizado para prever a emissão de CO2 de alguns veículos. "
   ]
  },
  {
   "cell_type": "code",
   "execution_count": 6,
   "metadata": {},
   "outputs": [
    {
     "name": "stdout",
     "output_type": "stream",
     "text": [
      "<class 'pandas.core.frame.DataFrame'>\n",
      "RangeIndex: 36 entries, 0 to 35\n",
      "Data columns (total 5 columns):\n",
      "Car       36 non-null object\n",
      "Model     36 non-null object\n",
      "Volume    36 non-null int64\n",
      "Weight    36 non-null int64\n",
      "CO2       36 non-null int64\n",
      "dtypes: int64(3), object(2)\n",
      "memory usage: 1.2+ KB\n"
     ]
    }
   ],
   "source": [
    "# O info() metodo, é adequado para verificar se existem dados faltantes ou células com dados errados.\n",
    "df.info()"
   ]
  },
  {
   "cell_type": "markdown",
   "metadata": {},
   "source": [
    "Podemos observar que não existe dados nulos ou células vazias, assim não é necessário a limpeza dos dados.  "
   ]
  },
  {
   "cell_type": "markdown",
   "metadata": {},
   "source": [
    "### Visualização das variáveis independentes com relação a variável dependente. "
   ]
  },
  {
   "cell_type": "markdown",
   "metadata": {},
   "source": [
    "Como esse modelo de Regressão Múltipla utiliza apenas dados numéricos, vamos utilizar as variáveis Volume do motor e peso do carro para as variáveis independentes e CO2 para a variável dependente."
   ]
  },
  {
   "cell_type": "code",
   "execution_count": 6,
   "metadata": {},
   "outputs": [
    {
     "data": {
      "image/png": "[encoded data removed]",
      "text/plain": [
       "<Figure size 720x360 with 1 Axes>"
      ]
     },
     "metadata": {
      "needs_background": "light"
     },
     "output_type": "display_data"
    }
   ],
   "source": [
    "# plotagem com a biblioteca matplotlib.pyplot e a linha com o scipy.stats\n",
    "import matplotlib.pyplot as plt\n",
    "from scipy import stats\n",
    "\n",
    "plt.figure(figsize=(10, 5))\n",
    "# CO2 em relação ao Volume do motor \n",
    "v = df['Volume']\n",
    "co2 = df['CO2']\n",
    "\n",
    "font1 = {'fontfamily': 'Arial', 'color': 'blue', 'fontsize': 15}\n",
    "font2 = {'fontfamily': 'Arial', 'color': 'red', 'fontsize': 14}\n",
    "\n",
    "inclinacao, intercept, r, p, std_err = stats.linregress(v, co2)\n",
    "\n",
    "def passoDados(v):\n",
    "    return inclinacao * v + intercept\n",
    "\n",
    "model = list(map(passoDados, v))\n",
    "\n",
    "plt.scatter(v, co2)\n",
    "plt.plot(v, model)\n",
    "plt.title('Emissão de CO2 com base no Volume do Motor', fontdict = font1)\n",
    "plt.xlabel('Volume', fontdict = font2)\n",
    "plt.ylabel('CO2', fontdict = font2)\n",
    "plt.show()\n"
   ]
  },
  {
   "cell_type": "markdown",
   "metadata": {},
   "source": [
    "Com um gráfico de dispersão podemos observar que, quanto maior o volume do motor, maior é a emissão de CO2 na atmosfera. Também podemos observar como fica a linha de regressão em relação ao Volume do motor. "
   ]
  },
  {
   "cell_type": "code",
   "execution_count": 73,
   "metadata": {},
   "outputs": [
    {
     "name": "stdout",
     "output_type": "stream",
     "text": [
      "0.592081794691874\n"
     ]
    }
   ],
   "source": [
    "# O relacionamento para essa variável fica em torno de 0.59:\n",
    "print(r)"
   ]
  },
  {
   "cell_type": "code",
   "execution_count": 7,
   "metadata": {},
   "outputs": [
    {
     "data": {
      "image/png": "[encoded data removed]",
      "text/plain": [
       "<Figure size 720x360 with 1 Axes>"
      ]
     },
     "metadata": {
      "needs_background": "light"
     },
     "output_type": "display_data"
    }
   ],
   "source": [
    "#CO2 em relação ao peso do carro, com a linha de regressão linear\n",
    "plt.figure(figsize=(10, 5))\n",
    "peso = df['Weight']\n",
    "Co2P = df['CO2']\n",
    "\n",
    "inclinacao1, intercept1, r1, p1, std_err1 = stats.linregress(peso, Co2P)\n",
    "\n",
    "def passoDados2(peso):\n",
    "    return inclinacao1 * peso + intercept1\n",
    "\n",
    "model1 = list(map(passoDados2, peso))\n",
    "\n",
    "plt.scatter(peso, Co2P, c = 'r')\n",
    "plt.plot(peso, model1, color = 'red')\n",
    "plt.title('Emissão de CO2 com base no Peso do Carro', fontdict = font1)\n",
    "plt.xlabel('Peso do Carro', fontdict = font2)\n",
    "plt.ylabel('CO2', fontdict = font2)\n",
    "plt.show()"
   ]
  },
  {
   "cell_type": "markdown",
   "metadata": {},
   "source": [
    "Com um gráfico de dispersão podemos observar que, quanto maior o Peso do carro, maior é a emissão de CO2 na atmosfera. Também podemos observar como fica a linha de regressão linear em relação aos dados de peso do carro. "
   ]
  },
  {
   "cell_type": "code",
   "execution_count": 8,
   "metadata": {},
   "outputs": [
    {
     "name": "stdout",
     "output_type": "stream",
     "text": [
      "0.5521500341348635\n"
     ]
    }
   ],
   "source": [
    "# O relacionamento para o peso do carro fica em torno de 0.55:\n",
    "print(r1)"
   ]
  },
  {
   "cell_type": "markdown",
   "metadata": {},
   "source": [
    "> Como temos uma relação muito baixa, vamos utilizar o modelo de Regressão com mais de uma variável, assim o modelo vai se ajustar melhor aos dados. "
   ]
  },
  {
   "cell_type": "markdown",
   "metadata": {},
   "source": [
    "## Modelo com o linear_model.LinearRegression()"
   ]
  },
  {
   "cell_type": "markdown",
   "metadata": {},
   "source": [
    "Para esse modelo, podemos utilizar mais de uma variável para melhorar a relação com a variável resposta."
   ]
  },
  {
   "cell_type": "code",
   "execution_count": 84,
   "metadata": {},
   "outputs": [],
   "source": [
    "#importação do linear_model do modulo sklearn\n",
    "from sklearn import linear_model\n",
    "\n",
    "X = df[['Weight', 'Volume']] #Variáveis dependentes\n",
    "y = df['CO2'] # variável dependente ou alvo \n",
    "\n",
    "#Criação do objeto \n",
    "objr = linear_model.LinearRegression()"
   ]
  },
  {
   "cell_type": "markdown",
   "metadata": {},
   "source": [
    "Como esse modelo só aceita numéros, vamos utilizar apenas as variáveis numéricas"
   ]
  },
  {
   "cell_type": "markdown",
   "metadata": {},
   "source": [
    "### Separação dos dados em conjunto de treino e teste"
   ]
  },
  {
   "cell_type": "code",
   "execution_count": 85,
   "metadata": {},
   "outputs": [],
   "source": [
    "from sklearn.model_selection import train_test_split"
   ]
  },
  {
   "cell_type": "code",
   "execution_count": 86,
   "metadata": {},
   "outputs": [],
   "source": [
    "X_treino, X_teste, y_treino, y_teste,  = train_test_split(X, y, test_size = 0.2)"
   ]
  },
  {
   "cell_type": "code",
   "execution_count": 87,
   "metadata": {},
   "outputs": [
    {
     "data": {
      "text/plain": [
       "(28, 2)"
      ]
     },
     "execution_count": 87,
     "metadata": {},
     "output_type": "execute_result"
    }
   ],
   "source": [
    "X_treino.shape"
   ]
  },
  {
   "cell_type": "code",
   "execution_count": 88,
   "metadata": {},
   "outputs": [
    {
     "data": {
      "text/plain": [
       "(8, 2)"
      ]
     },
     "execution_count": 88,
     "metadata": {},
     "output_type": "execute_result"
    }
   ],
   "source": [
    "X_teste.shape"
   ]
  },
  {
   "cell_type": "markdown",
   "metadata": {},
   "source": [
    "Podemos perceber que, ficamos com 27 variáveis para o treino e apenas 9 para o teste."
   ]
  },
  {
   "cell_type": "code",
   "execution_count": 91,
   "metadata": {},
   "outputs": [
    {
     "data": {
      "text/plain": [
       "LinearRegression(copy_X=True, fit_intercept=True, n_jobs=None,\n",
       "         normalize=False)"
      ]
     },
     "execution_count": 91,
     "metadata": {},
     "output_type": "execute_result"
    }
   ],
   "source": [
    "#chamada do metodo fit(), para treinar o modelo com todas as variáveis\n",
    "objr.fit(X_treino, y_treino)"
   ]
  },
  {
   "cell_type": "markdown",
   "metadata": {},
   "source": [
    "### Testando o modelo com os dados de teste"
   ]
  },
  {
   "cell_type": "code",
   "execution_count": 92,
   "metadata": {},
   "outputs": [
    {
     "data": {
      "text/html": [
       "<div>\n",
       "<style scoped>\n",
       "    .dataframe tbody tr th:only-of-type {\n",
       "        vertical-align: middle;\n",
       "    }\n",
       "\n",
       "    .dataframe tbody tr th {\n",
       "        vertical-align: top;\n",
       "    }\n",
       "\n",
       "    .dataframe thead th {\n",
       "        text-align: right;\n",
       "    }\n",
       "</style>\n",
       "<table border=\"1\" class=\"dataframe\">\n",
       "  <thead>\n",
       "    <tr style=\"text-align: right;\">\n",
       "      <th></th>\n",
       "      <th>Weight</th>\n",
       "      <th>Volume</th>\n",
       "    </tr>\n",
       "  </thead>\n",
       "  <tbody>\n",
       "    <tr>\n",
       "      <th>2</th>\n",
       "      <td>929</td>\n",
       "      <td>1000</td>\n",
       "    </tr>\n",
       "    <tr>\n",
       "      <th>27</th>\n",
       "      <td>1725</td>\n",
       "      <td>2000</td>\n",
       "    </tr>\n",
       "    <tr>\n",
       "      <th>25</th>\n",
       "      <td>1465</td>\n",
       "      <td>1500</td>\n",
       "    </tr>\n",
       "    <tr>\n",
       "      <th>15</th>\n",
       "      <td>1330</td>\n",
       "      <td>1600</td>\n",
       "    </tr>\n",
       "    <tr>\n",
       "      <th>23</th>\n",
       "      <td>1415</td>\n",
       "      <td>1600</td>\n",
       "    </tr>\n",
       "  </tbody>\n",
       "</table>\n",
       "</div>"
      ],
      "text/plain": [
       "    Weight  Volume\n",
       "2      929    1000\n",
       "27    1725    2000\n",
       "25    1465    1500\n",
       "15    1330    1600\n",
       "23    1415    1600"
      ]
     },
     "execution_count": 92,
     "metadata": {},
     "output_type": "execute_result"
    }
   ],
   "source": [
    "X_teste.head()"
   ]
  },
  {
   "cell_type": "code",
   "execution_count": 93,
   "metadata": {},
   "outputs": [],
   "source": [
    "# Prevendo novos valores com os dados de teste\n",
    "predicaoCO2 = objr.predict(X_teste)"
   ]
  },
  {
   "cell_type": "code",
   "execution_count": 94,
   "metadata": {},
   "outputs": [
    {
     "name": "stdout",
     "output_type": "stream",
     "text": [
      "[ 95.13753713 107.52415224 102.24234888 102.06355532 102.62498906\n",
      " 107.44443523 102.03713491 100.09569046]\n"
     ]
    }
   ],
   "source": [
    "print(predicaoCO2)"
   ]
  },
  {
   "cell_type": "markdown",
   "metadata": {},
   "source": [
    "Esses foram os novos valores previstos de CO2 com base nas variáveis de teste"
   ]
  },
  {
   "cell_type": "markdown",
   "metadata": {},
   "source": [
    "### Avaliando o modelo com Coeficiente de Correlação "
   ]
  },
  {
   "cell_type": "code",
   "execution_count": 95,
   "metadata": {},
   "outputs": [
    {
     "name": "stdout",
     "output_type": "stream",
     "text": [
      "[0.0066051  0.00712895]\n"
     ]
    }
   ],
   "source": [
    "print(objr.coef_)"
   ]
  },
  {
   "cell_type": "markdown",
   "metadata": {},
   "source": [
    "Esses são os dois coeficientes de correlação, isso significa que, para cada quilo a mais no peso do carro vai aumentar aproximadamente 0.0067 no CO2 e para o volume, vai aumentar 0.0071 para cada cm³ a mais."
   ]
  },
  {
   "cell_type": "markdown",
   "metadata": {},
   "source": [
    "#### Exemplos com novos dados"
   ]
  },
  {
   "cell_type": "code",
   "execution_count": 96,
   "metadata": {},
   "outputs": [
    {
     "name": "stdout",
     "output_type": "stream",
     "text": [
      "[106.33181908]\n"
     ]
    }
   ],
   "source": [
    "pred = objr.predict([[2300, 1300]])\n",
    "print(pred)"
   ]
  },
  {
   "cell_type": "markdown",
   "metadata": {},
   "source": [
    "Nesse exemplo, previmos que, para o peso do carro de 2300kg e para o volume do motor de 1300cm³, previmos o CO2 de aproximadamente 106.33"
   ]
  },
  {
   "cell_type": "code",
   "execution_count": 97,
   "metadata": {},
   "outputs": [
    {
     "name": "stdout",
     "output_type": "stream",
     "text": [
      "115.08\n"
     ]
    }
   ],
   "source": [
    "import numpy as np\n",
    "# prevendo novamente com o peso de 3300 e volume de 1600cm³\n",
    "pred2 = objr.predict([[3300, 1600]])\n",
    "print(np.around(pred2[0], 2))"
   ]
  },
  {
   "cell_type": "markdown",
   "metadata": {},
   "source": [
    "Assim basta fazer as contas com relação a predição anterion"
   ]
  },
  {
   "cell_type": "code",
   "execution_count": 98,
   "metadata": {},
   "outputs": [
    {
     "data": {
      "text/plain": [
       "115.0737888040396"
      ]
     },
     "execution_count": 98,
     "metadata": {},
     "output_type": "execute_result"
    }
   ],
   "source": [
    "106.33 + (1000 * objr.coef_[0]) + (300 * objr.coef_[1])"
   ]
  },
  {
   "cell_type": "markdown",
   "metadata": {},
   "source": [
    "Podemos observar que, o aumento do peso foi de 1000 e o volume foi de 300. Assim,  esses valores multiplicados pelos coeficientes equivalem ao novo resulta."
   ]
  },
  {
   "cell_type": "markdown",
   "metadata": {},
   "source": [
    "### Avaliando o modelo com métricas "
   ]
  },
  {
   "cell_type": "code",
   "execution_count": 1,
   "metadata": {},
   "outputs": [],
   "source": [
    "# Essa métrica untiliza o erro Quadrático Médio\n",
    "from sklearn.metrics import mean_squared_error"
   ]
  },
  {
   "cell_type": "code",
   "execution_count": 99,
   "metadata": {},
   "outputs": [],
   "source": [
    "eqm = mean_squared_error(y_teste, predicaoCO2)"
   ]
  },
  {
   "cell_type": "code",
   "execution_count": 100,
   "metadata": {},
   "outputs": [
    {
     "name": "stdout",
     "output_type": "stream",
     "text": [
      "23.41\n"
     ]
    }
   ],
   "source": [
    "print(np.around(eqm, 2))"
   ]
  },
  {
   "cell_type": "markdown",
   "metadata": {},
   "source": [
    "O erro médio quadrado foi de 23.41, então temos um modelo que pode ser usado para prever emissão de CO2 para novos veículos, lembrado que, são poucos os dados,  então séria melhor com um conjunto de dados maior."
   ]
  },
  {
   "cell_type": "markdown",
   "metadata": {},
   "source": [
    "# Conclusão\n",
    "Podemos concluir que, o uso da (regressão multipla) para múltiplas variáveis, pode ser aplicado para melhorar o modelo. No entanto, fica a critério de cada analista utilizar seus métodos  e conhecimentos de acordo com o conjunto de dados observado."
   ]
  },
  {
   "cell_type": "code",
   "execution_count": null,
   "metadata": {},
   "outputs": [],
   "source": []
  }
 ],
 "metadata": {
  "kernelspec": {
   "display_name": "Python 3",
   "language": "python",
   "name": "python3"
  },
  "language_info": {
   "codemirror_mode": {
    "name": "ipython",
    "version": 3
   },
   "file_extension": ".py",
   "mimetype": "text/x-python",
   "name": "python",
   "nbconvert_exporter": "python",
   "pygments_lexer": "ipython3",
   "version": "3.7.3"
  }
 },
 "nbformat": 4,
 "nbformat_minor": 2
}
